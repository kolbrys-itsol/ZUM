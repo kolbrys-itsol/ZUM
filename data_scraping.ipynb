{
 "nbformat": 4,
 "nbformat_minor": 0,
 "metadata": {
  "colab": {
   "provenance": []
  },
  "kernelspec": {
   "name": "python3",
   "display_name": "Python 3"
  },
  "language_info": {
   "name": "python"
  }
 },
 "cells": [
  {
   "cell_type": "code",
   "execution_count": null,
   "metadata": {
    "colab": {
     "base_uri": "https://localhost:8080/"
    },
    "id": "jJbupCXN5-Yu",
    "outputId": "e78ce0f6-ed28-4429-9924-5a457aa25498"
   },
   "outputs": [
    {
     "output_type": "stream",
     "name": "stdout",
     "text": [
      "Mounted at /content/drive\n"
     ]
    }
   ],
   "source": [
    "from google.colab import drive\n",
    "drive.mount('/content/drive')"
   ]
  },
  {
   "cell_type": "code",
   "source": [
    "!pip install tweepy --upgrade"
   ],
   "metadata": {
    "colab": {
     "base_uri": "https://localhost:8080/",
     "height": 436
    },
    "id": "37IHIJfO8dcC",
    "outputId": "ebc1dbfa-b134-4256-f41f-b25782a26d84"
   },
   "execution_count": null,
   "outputs": [
    {
     "output_type": "stream",
     "name": "stdout",
     "text": [
      "Looking in indexes: https://pypi.org/simple, https://us-python.pkg.dev/colab-wheels/public/simple/\n",
      "Requirement already satisfied: tweepy in /usr/local/lib/python3.10/dist-packages (4.13.0)\n",
      "Collecting tweepy\n",
      "  Downloading tweepy-4.14.0-py3-none-any.whl (98 kB)\n",
      "\u001B[2K     \u001B[90m━━━━━━━━━━━━━━━━━━━━━━━━━━━━━━━━━━━━━━━━\u001B[0m \u001B[32m98.5/98.5 kB\u001B[0m \u001B[31m5.3 MB/s\u001B[0m eta \u001B[36m0:00:00\u001B[0m\n",
      "\u001B[?25hRequirement already satisfied: oauthlib<4,>=3.2.0 in /usr/local/lib/python3.10/dist-packages (from tweepy) (3.2.2)\n",
      "Requirement already satisfied: requests<3,>=2.27.0 in /usr/local/lib/python3.10/dist-packages (from tweepy) (2.27.1)\n",
      "Requirement already satisfied: requests-oauthlib<2,>=1.2.0 in /usr/local/lib/python3.10/dist-packages (from tweepy) (1.3.1)\n",
      "Requirement already satisfied: urllib3<1.27,>=1.21.1 in /usr/local/lib/python3.10/dist-packages (from requests<3,>=2.27.0->tweepy) (1.26.15)\n",
      "Requirement already satisfied: certifi>=2017.4.17 in /usr/local/lib/python3.10/dist-packages (from requests<3,>=2.27.0->tweepy) (2022.12.7)\n",
      "Requirement already satisfied: charset-normalizer~=2.0.0 in /usr/local/lib/python3.10/dist-packages (from requests<3,>=2.27.0->tweepy) (2.0.12)\n",
      "Requirement already satisfied: idna<4,>=2.5 in /usr/local/lib/python3.10/dist-packages (from requests<3,>=2.27.0->tweepy) (3.4)\n",
      "Installing collected packages: tweepy\n",
      "  Attempting uninstall: tweepy\n",
      "    Found existing installation: tweepy 4.13.0\n",
      "    Uninstalling tweepy-4.13.0:\n",
      "      Successfully uninstalled tweepy-4.13.0\n",
      "Successfully installed tweepy-4.14.0\n"
     ]
    },
    {
     "output_type": "display_data",
     "data": {
      "application/vnd.colab-display-data+json": {
       "pip_warning": {
        "packages": [
         "tweepy"
        ]
       }
      }
     },
     "metadata": {}
    }
   ]
  },
  {
   "cell_type": "code",
   "source": [
    "import tweepy"
   ],
   "metadata": {
    "id": "tTNbCU4X6_Q3"
   },
   "execution_count": null,
   "outputs": []
  },
  {
   "cell_type": "code",
   "source": [
    "# scraping tweets from my favourite OSINT accounts into their respective .txt files\n",
    "\n",
    "bearer_token = 'TUTAJ_WPROWADZ_BEARER_TOKEN'\n",
    "client = tweepy.Client(bearer_token=bearer_token, wait_on_rate_limit=True)\n",
    "\n",
    "DELIMITER = \"\\t\"\n",
    "with open('/content/drive/MyDrive/ZUM/test_tweets3.txt', 'a', encoding=\"utf-8\") as f:\n",
    "    for tweet in tweepy.Paginator(client.search_recent_tweets, query='war Ukraine -is:retweet', until_id=\"1657736554637406210\",\n",
    "                                  max_results=100).flatten(limit=6400):\n",
    "    # for tweet in tweepy.Paginator(client.search_all_tweets, query='war Ukraine -is:retweet', max_results=100).flatten(limit=3200):\n",
    "      \n",
    "        f.write(tweet.text + '\\t' + str(tweet.id) + '\\n')"
   ],
   "metadata": {
    "id": "3BQhqGMU7BKo"
   },
   "execution_count": null,
   "outputs": []
  },
  {
   "cell_type": "code",
   "source": [
    "import pandas as pd"
   ],
   "metadata": {
    "id": "XfiE77hv7IO-"
   },
   "execution_count": null,
   "outputs": []
  },
  {
   "cell_type": "code",
   "source": [
    "# load tweets from .txt into dataframe, then append them to single tweets.csv file\n",
    "DELIMITER = \"\\t\"\n",
    "tweets = pd.read_csv(\"/content/drive/MyDrive/ZUM/test_tweets3.txt\", delimiter=DELIMITER, header=None, names=[\"Tweets\", \"Id\"])\n",
    "tweets.drop('Id', axis=1, inplace=True)\n",
    "# df1 = pd.read_csv(\"/content/drive/MyDrive/ZUM/tweets_dataset2.csv\")\n",
    "# df2 = pd.read_csv(\"/content/drive/MyDrive/ZUM/tweets_test3.csv\")\n",
    "# dataframes = [df1, df2]\n",
    "# df = pd.concat(dataframes, ignore_index = True)\n",
    "df.to_csv(\"/content/drive/MyDrive/ZUM/tweets_dataset.csv\", mode=\"a\")\n"
   ],
   "metadata": {
    "id": "BoIL3RLX7dci"
   },
   "execution_count": null,
   "outputs": []
  }
 ]
}
